{
 "cells": [
  {
   "cell_type": "code",
   "execution_count": 1,
   "metadata": {},
   "outputs": [],
   "source": [
    "# Dependencies\n",
    "from bs4 import BeautifulSoup\n",
    "from splinter import Browser\n",
    "import requests\n",
    "import pandas as pd"
   ]
  },
  {
   "cell_type": "code",
   "execution_count": 30,
   "metadata": {},
   "outputs": [],
   "source": [
    "#Variables\n",
    "count = 0"
   ]
  },
  {
   "cell_type": "code",
   "execution_count": 31,
   "metadata": {},
   "outputs": [],
   "source": [
    "#Open a new browser window\n",
    "executable_path = {'executable_path': 'chromedriver.exe'}\n",
    "browser = Browser('chrome', **executable_path, headless=False)"
   ]
  },
  {
   "cell_type": "markdown",
   "metadata": {},
   "source": [
    "# Mars News"
   ]
  },
  {
   "cell_type": "code",
   "execution_count": 32,
   "metadata": {},
   "outputs": [],
   "source": [
    "# URL of NASA Mars News Site \n",
    "url = 'https://mars.nasa.gov/news'\n",
    "browser.visit(url)"
   ]
  },
  {
   "cell_type": "code",
   "execution_count": 33,
   "metadata": {},
   "outputs": [
    {
     "name": "stdout",
     "output_type": "stream",
     "text": [
      "<div class=\"image_and_description_container\"><a href=\"/news/8441/nasas-mars-2020-gets-a-dose-of-space-here-on-earth/\" target=\"_self\"><div class=\"rollover_description\"><div class=\"rollover_description_inner\">NASA's Mars 2020 spacecraft has completed tests that are the best Earthly approximations of what the spacecraft will endure during launch and interplanetary cruise.</div><div class=\"overlay_arrow\"><img alt=\"More\" src=\"/assets/overlay-arrow.png\"/></div></div><div class=\"list_image\"><img alt=\"The completed spacecraft that will carry the Mars 2020 rover to the Red Planet, next year hangs suspended by cables inside the Space Simulator Facility at NASA's Jet Propulsion Laboratory in Pasadena, California. The image was taken on May 9, 2019.\" src=\"/system/news_items/list_view_images/8441_PIA23262-MAINIMAGE-D2019_0426_G2549-th.jpg\"/></div><div class=\"bottom_gradient\"><div><h3>NASA's Mars 2020 Gets a Dose of Space Here on Earth</h3></div></div></a><div class=\"list_text\"><div class=\"list_date\">May 23, 2019</div><div class=\"content_title\"><a href=\"/news/8441/nasas-mars-2020-gets-a-dose-of-space-here-on-earth/\" target=\"_self\">NASA's Mars 2020 Gets a Dose of Space Here on Earth</a></div><div class=\"article_teaser_body\">NASA's Mars 2020 spacecraft has completed tests that are the best Earthly approximations of what the spacecraft will endure during launch and interplanetary cruise.</div></div></div>\n"
     ]
    }
   ],
   "source": [
    "#Initiating Web Scrapping...\n",
    "html = browser.html\n",
    "# Parse HTML with Beautiful Soup\n",
    "soup = BeautifulSoup(html, 'html.parser')\n",
    "# Retrieve all elements that contain news info\n",
    "results = soup.find('div', class_='image_and_description_container')\n",
    "print(results)"
   ]
  },
  {
   "cell_type": "code",
   "execution_count": 34,
   "metadata": {},
   "outputs": [
    {
     "name": "stdout",
     "output_type": "stream",
     "text": [
      "NASA's Mars 2020 Gets a Dose of Space Here on Earth\n",
      "NASA's Mars 2020 spacecraft has completed tests that are the best Earthly approximations of what the spacecraft will endure during launch and interplanetary cruise.\n"
     ]
    }
   ],
   "source": [
    "for r in results:\n",
    "        if count == 1:\n",
    "            break\n",
    "        else:\n",
    "            count = count + 1\n",
    "            title = r.find('div', class_='bottom_gradient')\n",
    "            news_title = title.find('h3').text\n",
    "            news_p = r.find('div', class_='rollover_description_inner').text\n",
    "\n",
    "count = 0\n",
    "#Printing results\n",
    "print(news_title)\n",
    "print(news_p)"
   ]
  },
  {
   "cell_type": "markdown",
   "metadata": {},
   "source": [
    "# JPL"
   ]
  },
  {
   "cell_type": "code",
   "execution_count": 35,
   "metadata": {},
   "outputs": [],
   "source": [
    "# URL of JPL Featured Space Image\n",
    "url = 'https://www.jpl.nasa.gov/spaceimages/?search=&category=Mars'\n",
    "browser.visit(url)"
   ]
  },
  {
   "cell_type": "code",
   "execution_count": 36,
   "metadata": {},
   "outputs": [
    {
     "name": "stdout",
     "output_type": "stream",
     "text": [
      "https://www.jpl.nasa.gov/spaceimages/images/mediumsize/PIA22574_ip.jpg\n"
     ]
    }
   ],
   "source": [
    "#Initiating Web Scrapping...\n",
    "html = browser.html\n",
    "# Parse HTML with Beautiful Soup\n",
    "soup = BeautifulSoup(html, 'html.parser')\n",
    "# Retrieve the element with the link to the image (full image)\n",
    "results_jpl = soup.find_all('a', class_='button fancybox')\n",
    "\n",
    "#We search into the <a> tag where is the link to the featured image\n",
    "for link in results_jpl:\n",
    "     url_inc = link.get('data-fancybox-href')\n",
    "\n",
    "#Forming the complete url to the image\n",
    "featured_image_url = 'https://www.jpl.nasa.gov' + url_inc\n",
    "print(featured_image_url)"
   ]
  },
  {
   "cell_type": "markdown",
   "metadata": {},
   "source": [
    "# Twitter"
   ]
  },
  {
   "cell_type": "code",
   "execution_count": 37,
   "metadata": {},
   "outputs": [],
   "source": [
    "# URL of Twitter Mars Weather Account\n",
    "url = 'https://twitter.com/marswxreport?lang=en'\n",
    "browser.visit(url)"
   ]
  },
  {
   "cell_type": "code",
   "execution_count": 38,
   "metadata": {
    "scrolled": true
   },
   "outputs": [
    {
     "name": "stdout",
     "output_type": "stream",
     "text": [
      "InSight sol 174 (2019-05-24) low -101.1ºC (-149.9ºF) high -21.3ºC (-6.4ºF)\n",
      "winds from the SW at 4.3 m/s (9.6 mph) gusting to 16.3 m/s (36.5 mph)\n",
      "pressure at 7.50 hPapic.twitter.com/7XARGO6DS6\n"
     ]
    }
   ],
   "source": [
    "#Initiating Web Scrapping...\n",
    "html = browser.html\n",
    "# Parse HTML with Beautiful Soup\n",
    "soup = BeautifulSoup(html, 'html.parser')\n",
    "# Retrieve the element with the link to the image (full image)\n",
    "result_tw = soup.find('div', class_='js-tweet-text-container')\n",
    "twit = result_tw.find('p').text\n",
    "\n",
    "mars_weather = twit\n",
    "print(mars_weather)"
   ]
  },
  {
   "cell_type": "markdown",
   "metadata": {},
   "source": [
    "# Mars Facts"
   ]
  },
  {
   "cell_type": "code",
   "execution_count": 39,
   "metadata": {},
   "outputs": [],
   "source": [
    "url = 'https://space-facts.com/mars/'\n",
    "browser.visit(url)"
   ]
  },
  {
   "cell_type": "raw",
   "metadata": {},
   "source": [
    "html = browser.html\n",
    "soup = BeautifulSoup(html, 'html.parser')"
   ]
  },
  {
   "cell_type": "code",
   "execution_count": 41,
   "metadata": {
    "scrolled": true
   },
   "outputs": [
    {
     "name": "stdout",
     "output_type": "stream",
     "text": [
      "[<table class=\"tablepress tablepress-id-mars\" id=\"tablepress-mars\">\n",
      "<tbody>\n",
      "<tr class=\"row-1 odd\">\n",
      "<td class=\"column-1\"><strong>Equatorial Diameter:</strong></td><td class=\"column-2\">6,792 km<br/>\n",
      "</td>\n",
      "</tr>\n",
      "<tr class=\"row-2 even\">\n",
      "<td class=\"column-1\"><strong>Polar Diameter:</strong></td><td class=\"column-2\">6,752 km<br/>\n",
      "</td>\n",
      "</tr>\n",
      "<tr class=\"row-3 odd\">\n",
      "<td class=\"column-1\"><strong>Mass:</strong></td><td class=\"column-2\">6.42 x 10^23 kg (10.7% Earth)</td>\n",
      "</tr>\n",
      "<tr class=\"row-4 even\">\n",
      "<td class=\"column-1\"><strong>Moons:</strong></td><td class=\"column-2\">2 (<a href=\"https://space-facts.com/phobos/\">Phobos</a> &amp; <a href=\"https://space-facts.com/deimos/\">Deimos</a>)</td>\n",
      "</tr>\n",
      "<tr class=\"row-5 odd\">\n",
      "<td class=\"column-1\"><strong>Orbit Distance:</strong></td><td class=\"column-2\">227,943,824 km (1.52 AU)</td>\n",
      "</tr>\n",
      "<tr class=\"row-6 even\">\n",
      "<td class=\"column-1\"><strong>Orbit Period:</strong></td><td class=\"column-2\">687 days (1.9 years)<br/>\n",
      "</td>\n",
      "</tr>\n",
      "<tr class=\"row-7 odd\">\n",
      "<td class=\"column-1\"><strong>Surface Temperature: </strong></td><td class=\"column-2\">-153 to 20 °C</td>\n",
      "</tr>\n",
      "<tr class=\"row-8 even\">\n",
      "<td class=\"column-1\"><strong>First Record:</strong></td><td class=\"column-2\">2nd millennium BC</td>\n",
      "</tr>\n",
      "<tr class=\"row-9 odd\">\n",
      "<td class=\"column-1\"><strong>Recorded By:</strong></td><td class=\"column-2\">Egyptian astronomers</td>\n",
      "</tr>\n",
      "</tbody>\n",
      "</table>]\n"
     ]
    }
   ],
   "source": [
    "results = soup.find_all('table', class_='tablepress tablepress-id-mars')\n",
    "print(results)"
   ]
  },
  {
   "cell_type": "code",
   "execution_count": 43,
   "metadata": {},
   "outputs": [],
   "source": [
    "#Scrapping the data of the table\n",
    "for r in results:\n",
    "    \n",
    "        row1 = r.find('tr', class_='row-1 odd')\n",
    "        col1_r1 = row1.find('td', class_='column-1').text\n",
    "        col2_r1 = row1.find('td', class_='column-2').text\n",
    "\n",
    "        row2 = r.find('tr', class_='row-2 even')\n",
    "        col1_r2 = row2.find('td', class_='column-1').text\n",
    "        col2_r2 = row2.find('td', class_='column-2').text\n",
    "    \n",
    "        row3 = r.find('tr', class_='row-3 odd')\n",
    "        col1_r3 = row3.find('td', class_='column-1').text\n",
    "        col2_r3 = row3.find('td', class_='column-2').text\n",
    "    \n",
    "        row4 = r.find('tr', class_='row-4 even')\n",
    "        col1_r4 = row4.find('td', class_='column-1').text\n",
    "        col2_r4 = row4.find('td', class_='column-2').text\n",
    "    \n",
    "        row5 = r.find('tr', class_='row-5 odd')\n",
    "        col1_r5 = row5.find('td', class_='column-1').text\n",
    "        col2_r5 = row5.find('td', class_='column-2').text\n",
    "    \n",
    "        row6 = r.find('tr', class_='row-6 even')\n",
    "        col1_r6 = row6.find('td', class_='column-1').text\n",
    "        col2_r6 = row6.find('td', class_='column-2').text\n",
    "    \n",
    "        row7 = r.find('tr', class_='row-7 odd')\n",
    "        col1_r7 = row7.find('td', class_='column-1').text\n",
    "        col2_r7 = row7.find('td', class_='column-2').text\n",
    "\n",
    "        row8 = r.find('tr', class_='row-8 even')\n",
    "        col1_r8 = row8.find('td', class_='column-1').text\n",
    "        col2_r8 = row8.find('td', class_='column-2').text\n",
    "    \n",
    "        row9= r.find('tr', class_='row-9 odd')\n",
    "        col1_r9 = row9.find('td', class_='column-1').text\n",
    "        col2_r9 = row9.find('td', class_='column-2').text"
   ]
  },
  {
   "cell_type": "code",
   "execution_count": 48,
   "metadata": {},
   "outputs": [],
   "source": [
    "# Structure of the table \n",
    "data = [[col1_r1, col2_r1], \n",
    "        [col1_r2, col2_r2], \n",
    "        [col1_r3, col2_r3], \n",
    "        [col1_r4, col2_r4], \n",
    "        [col1_r5, col2_r5], \n",
    "        [col1_r6, col2_r6], \n",
    "        [col1_r7, col2_r7], \n",
    "        [col1_r8, col2_r8], \n",
    "        [col1_r9, col2_r9]]\n",
    "\n",
    "# Dataframe with the table \n",
    "df = pd.DataFrame(data, columns = ['Description', 'Data']) \n",
    "# Converting the data to a HTML table string\n",
    "df.to_html('mars_planet_profile.html')"
   ]
  },
  {
   "cell_type": "markdown",
   "metadata": {},
   "source": [
    "# Mars Hemispheres"
   ]
  },
  {
   "cell_type": "code",
   "execution_count": 51,
   "metadata": {},
   "outputs": [
    {
     "data": {
      "text/plain": [
       "[{'title': 'Valles Marineris Hemisphere',\n",
       "  'img_url': 'https://astropedia.astrogeology.usgs.gov/download/Mars/Viking/valles_marineris_enhanced.tif'},\n",
       " {'title': 'Syrtis Major Hemisphere',\n",
       "  'img_url': 'http://astropedia.astrogeology.usgs.gov/download/Mars/Viking/syrtis_major_enhanced.tif'},\n",
       " {'title': 'Schiaparelli Hemisphere',\n",
       "  'img_url': 'https://astropedia.astrogeology.usgs.gov/download/Mars/Viking/schiaparelli_enhanced.tif'},\n",
       " {'title': 'Cerberus Hemisphere',\n",
       "  'img_url': 'https://astropedia.astrogeology.usgs.gov/download/Mars/Viking/cerberus_enhanced.tif'}]"
      ]
     },
     "execution_count": 51,
     "metadata": {},
     "output_type": "execute_result"
    }
   ],
   "source": [
    "#Creating the dictionary with the info of hemispheres\n",
    "hemisphere_image_urls = [{\"title\": \"Valles Marineris Hemisphere\", \"img_url\": \"https://astropedia.astrogeology.usgs.gov/download/Mars/Viking/valles_marineris_enhanced.tif\"},\n",
    "                         {\"title\": \"Syrtis Major Hemisphere\", \"img_url\": \"http://astropedia.astrogeology.usgs.gov/download/Mars/Viking/syrtis_major_enhanced.tif\"},\n",
    "                         {\"title\": \"Schiaparelli Hemisphere\", \"img_url\": \"https://astropedia.astrogeology.usgs.gov/download/Mars/Viking/schiaparelli_enhanced.tif\"},\n",
    "                         {\"title\": \"Cerberus Hemisphere\", \"img_url\": \"https://astropedia.astrogeology.usgs.gov/download/Mars/Viking/cerberus_enhanced.tif\"}\n",
    "                        ]\n",
    "hemisphere_image_urls"
   ]
  }
 ],
 "metadata": {
  "kernelspec": {
   "display_name": "Python 3",
   "language": "python",
   "name": "python3"
  },
  "language_info": {
   "codemirror_mode": {
    "name": "ipython",
    "version": 3
   },
   "file_extension": ".py",
   "mimetype": "text/x-python",
   "name": "python",
   "nbconvert_exporter": "python",
   "pygments_lexer": "ipython3",
   "version": "3.6.7"
  }
 },
 "nbformat": 4,
 "nbformat_minor": 2
}
